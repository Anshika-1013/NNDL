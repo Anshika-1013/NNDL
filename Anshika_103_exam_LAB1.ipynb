{
  "nbformat": 4,
  "nbformat_minor": 0,
  "metadata": {
    "colab": {
      "provenance": []
    },
    "kernelspec": {
      "name": "python3",
      "display_name": "Python 3"
    },
    "language_info": {
      "name": "python"
    }
  },
  "cells": [
    {
      "cell_type": "markdown",
      "source": [
        "# Scenario:\n",
        "# The XOR gate is known for its complexity, as it outputs 1 only when the inputs are different.\n",
        "# This is a challenge for a Single Layer Perceptron since XOR is not linearly separable."
      ],
      "metadata": {
        "id": "XqfGXrCd4Gmv"
      }
    },
    {
      "cell_type": "markdown",
      "source": [
        "# Lab Task:\n",
        "\n",
        "# Attempt to implement a Single Layer Perceptron in Google Colab to classify the\n",
        "# output of an XOR gate. Perform the following steps:"
      ],
      "metadata": {
        "id": "Hec4aVuL4Jy3"
      }
    },
    {
      "cell_type": "markdown",
      "source": [],
      "metadata": {
        "id": "GTOqyFcR5sJ4"
      }
    },
    {
      "cell_type": "markdown",
      "source": [
        "# 1.Create the XOR gate's truth table dataset."
      ],
      "metadata": {
        "id": "r9HUyjiv4SBJ"
      }
    },
    {
      "cell_type": "code",
      "source": [
        "\n",
        "\n",
        "import numpy as np\n",
        "\n",
        "\n",
        "X = np.array([[0, 0], [0, 1], [1, 0], [1, 1]])\n",
        "y = np.array([0, 1, 1, 0])\n"
      ],
      "metadata": {
        "id": "-HV2hJQ_4WDd"
      },
      "execution_count": 1,
      "outputs": []
    },
    {
      "cell_type": "markdown",
      "source": [
        "\n",
        "# Interpretation of the XOR gate dataset:\n",
        "\n",
        "- X represents the input combinations to the XOR gate.\n",
        "- Each row in X represents a unique combination of inputs (x1, x2).\n",
        "\n",
        "- y represents the corresponding output of the XOR gate for each input combination.\n",
        "\n",
        "-The XOR gate outputs 1 when the inputs are different (0 and 1 or 1 and 0)\n",
        "and outputs 0 when the inputs are the same (both 0 or both 1).\n",
        "\n",
        "\n",
        "\n"
      ],
      "metadata": {
        "id": "3xtRv2hr7bxj"
      }
    },
    {
      "cell_type": "markdown",
      "source": [
        "# Implement the perceptron model and train it using the XOR dataset using MCP (McCullochPitts) Neuron."
      ],
      "metadata": {
        "id": "85utQEUi4ocB"
      }
    },
    {
      "cell_type": "code",
      "source": [
        "\n",
        "\n",
        "import numpy as np\n",
        "\n",
        "class Perceptron:\n",
        "    def __init__(self, learning_rate=0.1, epochs=100):\n",
        "        self.learning_rate = learning_rate\n",
        "        self.epochs = epochs\n",
        "        self.weights = None\n",
        "        self.bias = None\n",
        "\n",
        "    def activate(self, x):\n",
        "        return 1 if x >= 0 else 0\n",
        "\n",
        "    def predict(self, inputs):\n",
        "        linear_output = np.dot(inputs, self.weights) + self.bias\n",
        "        y_predicted = self.activate(linear_output)\n",
        "        return y_predicted\n",
        "\n",
        "    def train(self, X, y):\n",
        "        n_samples, n_features = X.shape\n",
        "        self.weights = np.zeros(n_features)\n",
        "        self.bias = 0\n",
        "\n",
        "        for _ in range(self.epochs):\n",
        "            for idx, x_i in enumerate(X):\n",
        "                linear_output = np.dot(x_i, self.weights) + self.bias\n",
        "                y_predicted = self.activate(linear_output)\n",
        "                update = self.learning_rate * (y[idx] - y_predicted)\n",
        "                self.weights += update * x_i\n",
        "                self.bias += update\n",
        "\n",
        "\n",
        "\n",
        "X = np.array([[0, 0], [0, 1], [1, 0], [1, 1]])\n",
        "y = np.array([0, 1, 1, 0])\n",
        "\n",
        "perceptron = Perceptron()\n",
        "perceptron.train(X, y)\n",
        "\n",
        "\n",
        "for i in range(len(X)):\n",
        "    print(f\"Input: {X[i]}, Predicted Output: {perceptron.predict(X[i])}, Actual Output: {y[i]}\")\n",
        "\n"
      ],
      "metadata": {
        "colab": {
          "base_uri": "https://localhost:8080/"
        },
        "id": "nstI3fjc4vaT",
        "outputId": "baeaef25-09bc-4d29-ec2b-8ec02f509602"
      },
      "execution_count": 2,
      "outputs": [
        {
          "output_type": "stream",
          "name": "stdout",
          "text": [
            "Input: [0 0], Predicted Output: 1, Actual Output: 0\n",
            "Input: [0 1], Predicted Output: 1, Actual Output: 1\n",
            "Input: [1 0], Predicted Output: 0, Actual Output: 1\n",
            "Input: [1 1], Predicted Output: 0, Actual Output: 0\n"
          ]
        }
      ]
    },
    {
      "cell_type": "markdown",
      "source": [
        "\n",
        "# Interpretation of the Results:\n",
        "\n",
        "- As expected, the single-layer perceptron with a linear activation function\n",
        "is not able to perfectly learn the XOR function.\n",
        "\n",
        "-The XOR function is not linearly separable, meaning you can't draw a single straight line to separate the input combinations that produce 0 from those that produce 1.\n",
        "\n",
        "- The perceptron, in its current form, is trying to fit a linear decision boundary.\n",
        "\n",
        "\n",
        "\n",
        "\n"
      ],
      "metadata": {
        "id": "Y-Dq4SzQ7rW4"
      }
    },
    {
      "cell_type": "markdown",
      "source": [
        "# 3.Observe and discuss the perceptron's performance in this scenario."
      ],
      "metadata": {
        "id": "LO9NIjUm45kR"
      }
    },
    {
      "cell_type": "markdown",
      "source": [
        "\n",
        "# Observation and Discussion:\n",
        "\n",
        "- The perceptron's performance on the XOR dataset is poor.\n",
        "- It fails to accurately classify all the XOR inputs.\n",
        "\n",
        "# Reason:\n",
        "- The XOR problem is not linearly separable. This means that it's impossible to draw a\n",
        "- single straight line to separate the inputs where the output is 1 from the inputs\n",
        "- where the output is 0.\n",
        "- A single-layer perceptron can only learn linearly separable functions.\n",
        "- Therefore, it's unable to accurately model the XOR function, which requires a more\n",
        "\n",
        "\n",
        "# complex decision boundary.\n",
        "- To solve this, we can use a multi-layer perceptron (a neural network with\n",
        " hidden layers) as it can learn non-linear relationships between input and"
      ],
      "metadata": {
        "id": "qN57QrOd5CcN"
      }
    },
    {
      "cell_type": "markdown",
      "source": [
        "# Implement XOR using Multi-Layer Perceptron."
      ],
      "metadata": {
        "id": "19-XrpCJ5tfl"
      }
    },
    {
      "cell_type": "code",
      "source": [
        "\n",
        "import numpy as np\n",
        "\n",
        "def sigmoid(x):\n",
        "  return 1 / (1 + np.exp(-x))\n",
        "\n",
        "def sigmoid_derivative(x):\n",
        "  return x * (1 - x)\n",
        "\n",
        "X = np.array([[0, 0], [0, 1], [1, 0], [1, 1]])\n",
        "y = np.array([[0], [1], [1], [0]])\n",
        "\n",
        "input_layer_neurons = 2\n",
        "hidden_layer_neurons = 4\n",
        "output_layer_neurons = 1\n",
        "\n",
        "hidden_weights = np.random.uniform(size=(input_layer_neurons, hidden_layer_neurons))\n",
        "hidden_bias = np.random.uniform(size=(1, hidden_layer_neurons))\n",
        "output_weights = np.random.uniform(size=(hidden_layer_neurons, output_layer_neurons))\n",
        "output_bias = np.random.uniform(size=(1, output_layer_neurons))\n",
        "\n",
        "learning_rate = 0.1\n",
        "epochs = 1000\n",
        "\n",
        "for epoch in range(epochs):\n",
        "  hidden_layer_activation = np.dot(X, hidden_weights) + hidden_bias\n",
        "  hidden_layer_output = sigmoid(hidden_layer_activation)\n",
        "  output_layer_activation = np.dot(hidden_layer_output, output_weights) + output_bias\n",
        "  predicted_output = sigmoid(output_layer_activation)\n",
        "\n",
        "  error = y - predicted_output\n",
        "  d_predicted_output = error * sigmoid_derivative(predicted_output)\n",
        "  error_hidden_layer = d_predicted_output.dot(output_weights.T)\n",
        "  d_hidden_layer = error_hidden_layer * sigmoid_derivative(hidden_layer_output)\n",
        "\n",
        "  output_weights += hidden_layer_output.T.dot(d_predicted_output) * learning_rate\n",
        "  output_bias += np.sum(d_predicted_output, axis=0, keepdims=True) * learning_rate\n",
        "  hidden_weights += X.T.dot(d_hidden_layer) * learning_rate\n",
        "  hidden_bias += np.sum(d_hidden_layer, axis=0, keepdims=True) * learning_rate\n",
        "\n",
        "for i in range(len(X)):\n",
        "  hidden_layer_activation = np.dot(X[i], hidden_weights) + hidden_bias\n",
        "  hidden_layer_output = sigmoid(hidden_layer_activation)\n",
        "  output_layer_activation = np.dot(hidden_layer_output, output_weights) + output_bias\n",
        "  predicted_output = sigmoid(output_layer_activation)\n",
        "  print(f\"Input: {X[i]}, Predicted Output: {round(predicted_output[0][0])}, Actual Output: {y[i][0]}\")\n"
      ],
      "metadata": {
        "colab": {
          "base_uri": "https://localhost:8080/"
        },
        "id": "0y-lmhP65vl8",
        "outputId": "4b61969e-4b0d-4b1a-cb41-756af6f380cf"
      },
      "execution_count": 6,
      "outputs": [
        {
          "output_type": "stream",
          "name": "stdout",
          "text": [
            "Input: [0 0], Predicted Output: 0, Actual Output: 0\n",
            "Input: [0 1], Predicted Output: 1, Actual Output: 1\n",
            "Input: [1 0], Predicted Output: 1, Actual Output: 1\n",
            "Input: [1 1], Predicted Output: 1, Actual Output: 0\n"
          ]
        }
      ]
    },
    {
      "cell_type": "code",
      "source": [
        "\n",
        "import numpy as np\n",
        "import matplotlib.pyplot as plt\n",
        "\n",
        "\n",
        "\n",
        "# Visualize the XOR gate's truth table\n",
        "plt.figure(figsize=(6, 4))\n",
        "plt.scatter([0, 0, 1, 1], [0, 1, 0, 1], c=y, cmap='coolwarm', s=100)\n",
        "plt.xlabel('Input 1', fontsize=12)\n",
        "plt.ylabel('Input 2', fontsize=12)\n",
        "plt.title('XOR Gate Truth Table', fontsize=14)\n",
        "plt.xticks([0, 1], fontsize=12)\n",
        "plt.yticks([0, 1], fontsize=12)\n",
        "plt.grid(True)\n",
        "\n",
        "# Created a meshgrid for visualizing the decision boundary\n",
        "x1_range = np.linspace(-0.5, 1.5, 100)\n",
        "x2_range = np.linspace(-0.5, 1.5, 100)\n",
        "xx, yy = np.meshgrid(x1_range, x2_range)\n",
        "\n",
        "Z = []\n",
        "for x1, x2 in zip(xx.flatten(), yy.flatten()):\n",
        "  input_data = np.array([[x1, x2]])\n",
        "  hidden_layer_activation = np.dot(input_data, hidden_weights) + hidden_bias\n",
        "  hidden_layer_output = sigmoid(hidden_layer_activation)\n",
        "  output_layer_activation = np.dot(hidden_layer_output, output_weights) + output_bias\n",
        "  predicted_output = sigmoid(output_layer_activation)\n",
        "  Z.append(predicted_output)\n",
        "\n",
        "Z = np.array(Z).reshape(xx.shape)\n",
        "\n",
        "# Created a contour plot for the decision boundary\n",
        "plt.figure(figsize=(8, 6))\n",
        "plt.contourf(xx, yy, Z, alpha=0.5, cmap='coolwarm')\n",
        "plt.scatter([0, 0, 1, 1], [0, 1, 0, 1], c=y, cmap='coolwarm', s=100, edgecolors='k')  # Increased size, black edges\n",
        "plt.xlabel('Input 1', fontsize=14)\n",
        "plt.ylabel('Input 2', fontsize=14)\n",
        "plt.title('MLP Decision Boundary for XOR', fontsize=16)\n",
        "plt.xticks([0, 1], fontsize=12)\n",
        "plt.yticks([0, 1], fontsize=12)\n",
        "plt.colorbar(label='Predicted Output')  # Add a colorbar for clarity\n",
        "plt.show()\n",
        "\n"
      ],
      "metadata": {
        "colab": {
          "base_uri": "https://localhost:8080/",
          "height": 977
        },
        "id": "h3ABRTlT6FH1",
        "outputId": "45a74901-b7dc-43b3-932a-f023911527bc"
      },
      "execution_count": 5,
      "outputs": [
        {
          "output_type": "display_data",
          "data": {
            "text/plain": [
              "<Figure size 600x400 with 1 Axes>"
            ],
            "image/png": "[encoded data removed]"
          },
          "metadata": {}
        },
        {
          "output_type": "display_data",
          "data": {
            "text/plain": [
              "<Figure size 800x600 with 2 Axes>"
            ],
            "image/png": "[encoded data removed]"
          },
          "metadata": {}
        }
      ]
    },
    {
      "cell_type": "markdown",
      "source": [
        "\n",
        "\n",
        "# Insights from the Graphs and Visualizations:\n",
        "\n",
        "# 1. XOR Gate Truth Table:\n",
        "   - The scatter plot visually represents the XOR truth table.\n",
        "   - It shows that the XOR gate outputs 1 when the inputs are different (0, 1) or (1, 0), and 0 otherwise.\n",
        "   - It highlights the non-linearity of the XOR function, where a single straight line cannot separate the\n",
        "   - inputs with output 1 from those with output 0.\n",
        "\n",
        "# 2. MLP Decision Boundary for XOR:\n",
        "    - The contour plot illustrates the decision boundary learned by the multi-layer perceptron (MLP) for the XOR function.\n",
        "   - The MLP successfully learns a non-linear decision boundary that separates the inputs correctly.\n",
        "   - The decision boundary is not a straight line, demonstrating that the MLP can model non-linear functions, unlike the single-layer perceptron.\n",
        "    - The colorbar shows the predicted output values for different regions of the input space.\n",
        "   - The contour plot clearly shows how the MLP can accurately classify the XOR inputs, which was not achievable with a single-layer perceptron.\n",
        "\n",
        "\n"
      ],
      "metadata": {
        "id": "RQVEPu6F6zib"
      }
    }
  ]
}